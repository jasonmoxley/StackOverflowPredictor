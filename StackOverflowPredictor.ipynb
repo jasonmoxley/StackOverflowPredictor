{
  "nbformat": 4,
  "nbformat_minor": 0,
  "metadata": {
    "colab": {
      "name": "StackOverflowPredictor.ipynb",
      "provenance": [],
      "collapsed_sections": []
    },
    "kernelspec": {
      "name": "python3",
      "display_name": "Python 3"
    }
  },
  "cells": [
    {
      "cell_type": "code",
      "metadata": {
        "id": "_FlFLPmIrXGJ"
      },
      "source": [
        "import numpy as np\n",
        "import pandas as pd\n",
        "from bs4 import BeautifulSoup as bs\n",
        "\n",
        "from sklearn.feature_extraction.text import TfidfVectorizer\n",
        "from sklearn.feature_extraction.text import CountVectorizer\n",
        "from sklearn.linear_model import LogisticRegression\n",
        "from sklearn.naive_bayes import MultinomialNB\n",
        "from sklearn.neural_network import MLPClassifier\n",
        "\n",
        "df_train = pd.read_csv('https://media.githubusercontent.com/media/jasonmoxley/StackOverflowPredictor/main/train.csv')\n",
        "df_valid = pd.read_csv('https://media.githubusercontent.com/media/jasonmoxley/StackOverflowPredictor/main/valid.csv')"
      ],
      "execution_count": null,
      "outputs": []
    },
    {
      "cell_type": "code",
      "metadata": {
        "id": "uXoCSnzGyf_z",
        "colab": {
          "base_uri": "https://localhost:8080/",
          "height": 289
        },
        "outputId": "b5c9a259-94c5-4ddb-9315-c7804079cdf8"
      },
      "source": [
        "#prints the first 5 rows of data frame\n",
        "df_train.head()"
      ],
      "execution_count": null,
      "outputs": [
        {
          "output_type": "execute_result",
          "data": {
            "text/html": [
              "<div>\n",
              "<style scoped>\n",
              "    .dataframe tbody tr th:only-of-type {\n",
              "        vertical-align: middle;\n",
              "    }\n",
              "\n",
              "    .dataframe tbody tr th {\n",
              "        vertical-align: top;\n",
              "    }\n",
              "\n",
              "    .dataframe thead th {\n",
              "        text-align: right;\n",
              "    }\n",
              "</style>\n",
              "<table border=\"1\" class=\"dataframe\">\n",
              "  <thead>\n",
              "    <tr style=\"text-align: right;\">\n",
              "      <th></th>\n",
              "      <th>Id</th>\n",
              "      <th>Title</th>\n",
              "      <th>Body</th>\n",
              "      <th>Tags</th>\n",
              "      <th>CreationDate</th>\n",
              "      <th>Y</th>\n",
              "    </tr>\n",
              "  </thead>\n",
              "  <tbody>\n",
              "    <tr>\n",
              "      <th>0</th>\n",
              "      <td>34552656</td>\n",
              "      <td>Java: Repeat Task Every Random Seconds</td>\n",
              "      <td>&lt;p&gt;I'm already familiar with repeating tasks e...</td>\n",
              "      <td>&lt;java&gt;&lt;repeat&gt;</td>\n",
              "      <td>2016-01-01 00:21:59</td>\n",
              "      <td>LQ_CLOSE</td>\n",
              "    </tr>\n",
              "    <tr>\n",
              "      <th>1</th>\n",
              "      <td>34553034</td>\n",
              "      <td>Why are Java Optionals immutable?</td>\n",
              "      <td>&lt;p&gt;I'd like to understand why Java 8 Optionals...</td>\n",
              "      <td>&lt;java&gt;&lt;optional&gt;</td>\n",
              "      <td>2016-01-01 02:03:20</td>\n",
              "      <td>HQ</td>\n",
              "    </tr>\n",
              "    <tr>\n",
              "      <th>2</th>\n",
              "      <td>34553174</td>\n",
              "      <td>Text Overlay Image with Darkened Opacity React...</td>\n",
              "      <td>&lt;p&gt;I am attempting to overlay a title over an ...</td>\n",
              "      <td>&lt;javascript&gt;&lt;image&gt;&lt;overlay&gt;&lt;react-native&gt;&lt;opa...</td>\n",
              "      <td>2016-01-01 02:48:24</td>\n",
              "      <td>HQ</td>\n",
              "    </tr>\n",
              "    <tr>\n",
              "      <th>3</th>\n",
              "      <td>34553318</td>\n",
              "      <td>Why ternary operator in swift is so picky?</td>\n",
              "      <td>&lt;p&gt;The question is very simple, but I just cou...</td>\n",
              "      <td>&lt;swift&gt;&lt;operators&gt;&lt;whitespace&gt;&lt;ternary-operato...</td>\n",
              "      <td>2016-01-01 03:30:17</td>\n",
              "      <td>HQ</td>\n",
              "    </tr>\n",
              "    <tr>\n",
              "      <th>4</th>\n",
              "      <td>34553755</td>\n",
              "      <td>hide/show fab with scale animation</td>\n",
              "      <td>&lt;p&gt;I'm using custom floatingactionmenu. I need...</td>\n",
              "      <td>&lt;android&gt;&lt;material-design&gt;&lt;floating-action-but...</td>\n",
              "      <td>2016-01-01 05:21:48</td>\n",
              "      <td>HQ</td>\n",
              "    </tr>\n",
              "  </tbody>\n",
              "</table>\n",
              "</div>"
            ],
            "text/plain": [
              "         Id  ...         Y\n",
              "0  34552656  ...  LQ_CLOSE\n",
              "1  34553034  ...        HQ\n",
              "2  34553174  ...        HQ\n",
              "3  34553318  ...        HQ\n",
              "4  34553755  ...        HQ\n",
              "\n",
              "[5 rows x 6 columns]"
            ]
          },
          "metadata": {
            "tags": []
          },
          "execution_count": 2
        }
      ]
    },
    {
      "cell_type": "code",
      "metadata": {
        "id": "LK9KzX5PyggV",
        "colab": {
          "base_uri": "https://localhost:8080/",
          "height": 289
        },
        "outputId": "9e3bc69c-04c7-471b-ceb2-41571c4cffa3"
      },
      "source": [
        "#prints the first 5 rows of data frame\n",
        "df_valid.head()"
      ],
      "execution_count": null,
      "outputs": [
        {
          "output_type": "execute_result",
          "data": {
            "text/html": [
              "<div>\n",
              "<style scoped>\n",
              "    .dataframe tbody tr th:only-of-type {\n",
              "        vertical-align: middle;\n",
              "    }\n",
              "\n",
              "    .dataframe tbody tr th {\n",
              "        vertical-align: top;\n",
              "    }\n",
              "\n",
              "    .dataframe thead th {\n",
              "        text-align: right;\n",
              "    }\n",
              "</style>\n",
              "<table border=\"1\" class=\"dataframe\">\n",
              "  <thead>\n",
              "    <tr style=\"text-align: right;\">\n",
              "      <th></th>\n",
              "      <th>Id</th>\n",
              "      <th>Title</th>\n",
              "      <th>Body</th>\n",
              "      <th>Tags</th>\n",
              "      <th>CreationDate</th>\n",
              "      <th>Y</th>\n",
              "    </tr>\n",
              "  </thead>\n",
              "  <tbody>\n",
              "    <tr>\n",
              "      <th>0</th>\n",
              "      <td>34552974</td>\n",
              "      <td>How to get all the child records from differen...</td>\n",
              "      <td>I am having 4 different tables like \\r\\nselect...</td>\n",
              "      <td>&lt;sql&gt;&lt;sql-server&gt;</td>\n",
              "      <td>2016-01-01 01:44:52</td>\n",
              "      <td>LQ_EDIT</td>\n",
              "    </tr>\n",
              "    <tr>\n",
              "      <th>1</th>\n",
              "      <td>34554721</td>\n",
              "      <td>Retrieve all except some data of the another t...</td>\n",
              "      <td>I have two table m_master and tbl_appointment\\...</td>\n",
              "      <td>&lt;php&gt;&lt;mysql&gt;&lt;sql&gt;&lt;codeigniter&gt;&lt;mysqli&gt;</td>\n",
              "      <td>2016-01-01 08:43:50</td>\n",
              "      <td>LQ_EDIT</td>\n",
              "    </tr>\n",
              "    <tr>\n",
              "      <th>2</th>\n",
              "      <td>34555135</td>\n",
              "      <td>Pandas: read_html</td>\n",
              "      <td>&lt;p&gt;I'm trying to extract US states from wiki U...</td>\n",
              "      <td>&lt;python&gt;&lt;pandas&gt;</td>\n",
              "      <td>2016-01-01 09:55:22</td>\n",
              "      <td>HQ</td>\n",
              "    </tr>\n",
              "    <tr>\n",
              "      <th>3</th>\n",
              "      <td>34555448</td>\n",
              "      <td>Reader Always gimme NULL</td>\n",
              "      <td>I'm so new to C#, I wanna make an application ...</td>\n",
              "      <td>&lt;sql-server&gt;&lt;c#-4.0&gt;</td>\n",
              "      <td>2016-01-01 10:43:45</td>\n",
              "      <td>LQ_EDIT</td>\n",
              "    </tr>\n",
              "    <tr>\n",
              "      <th>4</th>\n",
              "      <td>34555752</td>\n",
              "      <td>php rearrange array elements based on condition</td>\n",
              "      <td>basically i have this array:\\r\\n\\r\\n    array(...</td>\n",
              "      <td>&lt;php&gt;</td>\n",
              "      <td>2016-01-01 11:34:09</td>\n",
              "      <td>LQ_EDIT</td>\n",
              "    </tr>\n",
              "  </tbody>\n",
              "</table>\n",
              "</div>"
            ],
            "text/plain": [
              "         Id  ...        Y\n",
              "0  34552974  ...  LQ_EDIT\n",
              "1  34554721  ...  LQ_EDIT\n",
              "2  34555135  ...       HQ\n",
              "3  34555448  ...  LQ_EDIT\n",
              "4  34555752  ...  LQ_EDIT\n",
              "\n",
              "[5 rows x 6 columns]"
            ]
          },
          "metadata": {
            "tags": []
          },
          "execution_count": 3
        }
      ]
    },
    {
      "cell_type": "code",
      "metadata": {
        "id": "EEm1VsoHZ-Lh"
      },
      "source": [
        "#adding spacing before and after each tag to ensure no two words are not seperated by a space when beautifulsoup removes the tags\n",
        "def add_spacing(data):\n",
        "  data = data.replace(\"<\", \" <\")\n",
        "  data = data.replace(\">\", \"> \")\n",
        "  return data\n",
        "\n",
        "#remove excess spacing after beautifulsoup removes tags\n",
        "def remove_spacing(data):\n",
        "  data = data.replace(\"    \", \" \")\n",
        "  data = data.replace(\"   \", \" \")\n",
        "  data = data.replace(\"  \", \" \")\n",
        "  data = data.lstrip()\n",
        "  data = data.rstrip()\n",
        "  return data"
      ],
      "execution_count": null,
      "outputs": []
    },
    {
      "cell_type": "code",
      "metadata": {
        "id": "WTmKh-TsZjdi"
      },
      "source": [
        "#this function uses the BeautifulSoup library to convert html to text\n",
        "def htmlToText(html_string):\n",
        "  soup = bs(html_string)\n",
        "  #replacing all the code tags with the word code\n",
        "  for codeTag in soup.findAll('code'):\n",
        "        codeTag.replaceWith(\" code \")\n",
        "  return soup.get_text()"
      ],
      "execution_count": null,
      "outputs": []
    },
    {
      "cell_type": "code",
      "metadata": {
        "id": "vKeS4x4Chn4L"
      },
      "source": [
        "def tagsToText(tags):\n",
        "  tags = tags.replace(\"><\", \" \")\n",
        "  tags = tags.replace(\"<\", \"\")\n",
        "  tags = tags.replace(\">\", \"\")\n",
        "  tags = tags.lstrip()\n",
        "  tags = tags.rstrip()\n",
        "  return tags"
      ],
      "execution_count": null,
      "outputs": []
    },
    {
      "cell_type": "code",
      "metadata": {
        "id": "eXs8hf5Vc8Yn",
        "colab": {
          "base_uri": "https://localhost:8080/"
        },
        "outputId": "b1e10b68-9d27-428f-d142-411c6d3450a2"
      },
      "source": [
        "#test for html to text functions\n",
        "test = '''<p>this is a test</p><code>this should be replaced with \"code\"</code><p>this is a test</p>'''\n",
        "test = add_spacing(test)\n",
        "test = htmlToText(test)\n",
        "test = remove_spacing(test)\n",
        "print(\"Two outputs below should be the same\")\n",
        "print(\"this is a test code this is a test\")\n",
        "print(test)"
      ],
      "execution_count": null,
      "outputs": [
        {
          "output_type": "stream",
          "text": [
            "Two outputs below should be the same\n",
            "this is a test code this is a test\n",
            "this is a test code this is a test\n"
          ],
          "name": "stdout"
        }
      ]
    },
    {
      "cell_type": "code",
      "metadata": {
        "colab": {
          "base_uri": "https://localhost:8080/"
        },
        "id": "-d3d8z-Ph-X4",
        "outputId": "2febd6bd-094b-48bf-ae43-3cbb0b801ca7"
      },
      "source": [
        "test = '''<machine><learning>'''\n",
        "test = tagsToText(test)\n",
        "print(\"Two outputs below should be the same\")\n",
        "print(\"machine learning\")\n",
        "print(test)"
      ],
      "execution_count": null,
      "outputs": [
        {
          "output_type": "stream",
          "text": [
            "Two outputs below should be the same\n",
            "machine learning\n",
            "machine learning\n"
          ],
          "name": "stdout"
        }
      ]
    },
    {
      "cell_type": "code",
      "metadata": {
        "id": "NHQc6EAJZbRV"
      },
      "source": [
        "#cleans data using the above functions into a move usable form\n",
        "def process_data(data):\n",
        "  #data is a pandas data frame\n",
        "  data = data.drop(columns=['Id', 'CreationDate'])\n",
        "\n",
        "  #these lines convert the body column from html to text\n",
        "  data['Body'] = data['Body'].apply(add_spacing, 1)\n",
        "  data['Body'] = data['Body'].apply(htmlToText, 1)\n",
        "  data['Body'] = data['Body'].apply(remove_spacing, 1)\n",
        "\n",
        "  data['Tags'] = data['Tags'].apply(tagsToText, 1)\n",
        "\n",
        "  #combining the title and body columns\n",
        "  data['Post'] = data['Title'] + ' ' + data['Body'] + ' ' + data['Tags']\n",
        "  #removing any possible excess spacing\n",
        "  data['Post'] = data['Post'].apply(remove_spacing, 1)\n",
        "  #removing the title and body columns\n",
        "  data = data.drop(columns=['Title', 'Body', 'Tags'])\n",
        "\n",
        "  #converting the labels to numbers\n",
        "  data['Label'] = data['Y'].map({'HQ':1, 'LQ_EDIT':2, 'LQ_CLOSE':3})\n",
        "  #removing the old labels column\n",
        "  data = data.drop(columns=['Y'])\n",
        "\n",
        "  return data"
      ],
      "execution_count": null,
      "outputs": []
    },
    {
      "cell_type": "code",
      "metadata": {
        "id": "wXmHxlbGusaB",
        "colab": {
          "base_uri": "https://localhost:8080/",
          "height": 204
        },
        "outputId": "4509b80f-a297-42c0-dc4d-40a98d2c4681"
      },
      "source": [
        "#processing the training data\n",
        "df_train = process_data(df_train)\n",
        "df_train.head()"
      ],
      "execution_count": null,
      "outputs": [
        {
          "output_type": "execute_result",
          "data": {
            "text/html": [
              "<div>\n",
              "<style scoped>\n",
              "    .dataframe tbody tr th:only-of-type {\n",
              "        vertical-align: middle;\n",
              "    }\n",
              "\n",
              "    .dataframe tbody tr th {\n",
              "        vertical-align: top;\n",
              "    }\n",
              "\n",
              "    .dataframe thead th {\n",
              "        text-align: right;\n",
              "    }\n",
              "</style>\n",
              "<table border=\"1\" class=\"dataframe\">\n",
              "  <thead>\n",
              "    <tr style=\"text-align: right;\">\n",
              "      <th></th>\n",
              "      <th>Post</th>\n",
              "      <th>Label</th>\n",
              "    </tr>\n",
              "  </thead>\n",
              "  <tbody>\n",
              "    <tr>\n",
              "      <th>0</th>\n",
              "      <td>Java: Repeat Task Every Random Seconds I'm alr...</td>\n",
              "      <td>3</td>\n",
              "    </tr>\n",
              "    <tr>\n",
              "      <th>1</th>\n",
              "      <td>Why are Java Optionals immutable? I'd like to ...</td>\n",
              "      <td>1</td>\n",
              "    </tr>\n",
              "    <tr>\n",
              "      <th>2</th>\n",
              "      <td>Text Overlay Image with Darkened Opacity React...</td>\n",
              "      <td>1</td>\n",
              "    </tr>\n",
              "    <tr>\n",
              "      <th>3</th>\n",
              "      <td>Why ternary operator in swift is so picky? The...</td>\n",
              "      <td>1</td>\n",
              "    </tr>\n",
              "    <tr>\n",
              "      <th>4</th>\n",
              "      <td>hide/show fab with scale animation I'm using c...</td>\n",
              "      <td>1</td>\n",
              "    </tr>\n",
              "  </tbody>\n",
              "</table>\n",
              "</div>"
            ],
            "text/plain": [
              "                                                Post  Label\n",
              "0  Java: Repeat Task Every Random Seconds I'm alr...      3\n",
              "1  Why are Java Optionals immutable? I'd like to ...      1\n",
              "2  Text Overlay Image with Darkened Opacity React...      1\n",
              "3  Why ternary operator in swift is so picky? The...      1\n",
              "4  hide/show fab with scale animation I'm using c...      1"
            ]
          },
          "metadata": {
            "tags": []
          },
          "execution_count": 10
        }
      ]
    },
    {
      "cell_type": "code",
      "metadata": {
        "id": "7KXgls0jyqeY",
        "colab": {
          "base_uri": "https://localhost:8080/",
          "height": 204
        },
        "outputId": "e93bcf0a-e599-40ea-ff30-f870a0c1b7dc"
      },
      "source": [
        "#processing the validation data\n",
        "df_valid = process_data(df_valid)\n",
        "df_valid.head()"
      ],
      "execution_count": null,
      "outputs": [
        {
          "output_type": "execute_result",
          "data": {
            "text/html": [
              "<div>\n",
              "<style scoped>\n",
              "    .dataframe tbody tr th:only-of-type {\n",
              "        vertical-align: middle;\n",
              "    }\n",
              "\n",
              "    .dataframe tbody tr th {\n",
              "        vertical-align: top;\n",
              "    }\n",
              "\n",
              "    .dataframe thead th {\n",
              "        text-align: right;\n",
              "    }\n",
              "</style>\n",
              "<table border=\"1\" class=\"dataframe\">\n",
              "  <thead>\n",
              "    <tr style=\"text-align: right;\">\n",
              "      <th></th>\n",
              "      <th>Post</th>\n",
              "      <th>Label</th>\n",
              "    </tr>\n",
              "  </thead>\n",
              "  <tbody>\n",
              "    <tr>\n",
              "      <th>0</th>\n",
              "      <td>How to get all the child records from differen...</td>\n",
              "      <td>2</td>\n",
              "    </tr>\n",
              "    <tr>\n",
              "      <th>1</th>\n",
              "      <td>Retrieve all except some data of the another t...</td>\n",
              "      <td>2</td>\n",
              "    </tr>\n",
              "    <tr>\n",
              "      <th>2</th>\n",
              "      <td>Pandas: read_html I'm trying to extract US sta...</td>\n",
              "      <td>1</td>\n",
              "    </tr>\n",
              "    <tr>\n",
              "      <th>3</th>\n",
              "      <td>Reader Always gimme NULL I'm so new to C#, I w...</td>\n",
              "      <td>2</td>\n",
              "    </tr>\n",
              "    <tr>\n",
              "      <th>4</th>\n",
              "      <td>php rearrange array elements based on conditio...</td>\n",
              "      <td>2</td>\n",
              "    </tr>\n",
              "  </tbody>\n",
              "</table>\n",
              "</div>"
            ],
            "text/plain": [
              "                                                Post  Label\n",
              "0  How to get all the child records from differen...      2\n",
              "1  Retrieve all except some data of the another t...      2\n",
              "2  Pandas: read_html I'm trying to extract US sta...      1\n",
              "3  Reader Always gimme NULL I'm so new to C#, I w...      2\n",
              "4  php rearrange array elements based on conditio...      2"
            ]
          },
          "metadata": {
            "tags": []
          },
          "execution_count": 11
        }
      ]
    },
    {
      "cell_type": "code",
      "metadata": {
        "colab": {
          "base_uri": "https://localhost:8080/"
        },
        "id": "LtBjPWKTlF9n",
        "outputId": "5ff5d9e6-4cf2-4913-d625-6d8d5166d73c"
      },
      "source": [
        "hqWords = {}\n",
        "lqWords = {}\n",
        "lqCloseWords = {}\n",
        "hqWordsList = []\n",
        "lqWordsList = []\n",
        "lqCloseWordsList = []\n",
        "\n",
        "for index, row in df_train.iterrows():\n",
        "  words = row['Post']\n",
        "  words = words.split(' ')\n",
        "  label = row['Label']\n",
        "  for word in words:\n",
        "    if label == 1:\n",
        "      if hqWords.get(word):\n",
        "        hqWords[word] += 1\n",
        "      else:\n",
        "        hqWords[word] = 1\n",
        "    if label == 2:\n",
        "      if lqWords.get(word):\n",
        "        lqWords[word] += 1\n",
        "      else:\n",
        "        lqWords[word] = 1\n",
        "    if label == 3:\n",
        "      if lqCloseWords.get(word):\n",
        "        lqCloseWords[word] += 1\n",
        "      else:\n",
        "        lqCloseWords[word] = 1\n",
        "\n",
        "for word in sorted(hqWords, key=hqWords.get, reverse=True):\n",
        "  hqWordsList.append(word)\n",
        "  if len(hqWordsList) > 100:\n",
        "    break\n",
        "for word in sorted(lqWords, key=lqWords.get, reverse=True):\n",
        "  lqWordsList.append(word)\n",
        "  if len(lqWordsList) > 100:\n",
        "    break\n",
        "for word in sorted(lqCloseWords, key=lqCloseWords.get, reverse=True):\n",
        "  lqCloseWordsList.append(word)\n",
        "  if len(lqCloseWordsList) > 100:\n",
        "    break\n",
        "\n",
        "print(\"these are the 100 most common words for each label\")\n",
        "print(\"label: HQ\")\n",
        "print(hqWordsList)\n",
        "print(\"label: LQ_Edit\")\n",
        "print(lqWordsList)\n",
        "print(\"label: LQ_Close\")\n",
        "print(lqCloseWordsList)"
      ],
      "execution_count": null,
      "outputs": [
        {
          "output_type": "stream",
          "text": [
            "these are the 100 most common words for each label\n",
            "label: HQ\n",
            "['\\n', 'the', 'to', 'I', 'code', 'a', 'in', 'is', 'and', 'of', 'it', 'that', 'this', 'with', 'for', 'have', 'my', 'on', 'but', 'not', 'be', 'can', 'an', 'using', 'as', 'from', 'How', 'am', '\\n\\n', \"I'm\", 'like', 'do', 'use', 'when', 'there', 'or', 'The', 'get', 'are', 'if', 'how', 'want', 'which', 'way', 'would', 'Is', 'any', '.', 'all', 'some', 'what', 'by', 'error', 'following', 'file', 'so', 'trying', ',', 'at', 'you', 'What', 'does', 'one', 'tried', 'has', 'i', 'This', 'will', 'only', 'need', 'new', \"I've\", 'just', 'But', 'run', '-', 'was', 'know', 'app', 'same', 'me', 'python', 'In', 'find', 'should', 'no', 'into', 'set', 'then', 'data', \"don't\", 'other', 'function', 'android', 'When', ':', 'create', 'javascript', 'make', 'also', 'we']\n",
            "label: LQ_Edit\n",
            "['the', 'to', '=', '\\r\\n', 'I', 'in', 'a', 'is', 'and', '{\\r\\n', 'of', 'i', 'for', 'it', '}\\r\\n', 'this', 'have', 'my', 'with', 'if', 'that', 'not', 'on', 'new', 'from', 'but', '<', 'am', '+', 'code', 'want', 'can', 'public', 'using', 'be', 'as', 'how', 'an', '\\n', 'int', 'return', 'do', 'get', 'void', '>', '-', 'like', 'How', 'me', 'when', 'at', 'or', 'import', 'help', 'class', '\"', '//', '==', 'need', 'function', 'data', 'you', '\\r\\n\\r\\n', ':', 'file', 'are', 'use', 'string', 'all', 'String', 'which', '1', 'value', 'python', 'one', '}', 'by', 'java', 'var', 'error', 'will', 'so', '|', '}\\r\\n\\r\\n', 'any', 'trying', \"I'm\", 'android', 'what', 'javascript', ',', '=>', 'know', '2', 'some', 'array', 'would', '*', 'image', '[1]:', 'should']\n",
            "label: LQ_Close\n",
            "['the', '\\n', 'to', 'I', 'a', 'code', 'in', 'and', 'is', 'of', 'it', 'have', 'this', 'that', 'for', 'with', 'my', 'but', 'on', 'can', 'i', 'an', 'How', 'am', 'not', 'be', 'want', 'from', 'do', 'how', 'like', 'if', 'using', 'as', 'or', \"I'm\", 'get', 'when', 'use', 'would', 'are', 'me', 'need', 'javascript', 'java', 'there', 'which', 'python', 'what', 'so', 'The', 'string', 'you', 'function', 'any', 'file', 'php', 'will', 'know', 'some', 'all', 'trying', 'data', 'by', 'one', 'array', 'help', 'way', 'make', 'should', 'value', '\\n\\n', 'into', 'list', 'What', 'error', 'new', 'Is', 'just', 'html', 'only', 'then', 'at', 'c#', 'create', 'find', 'number', 'has', 'user', 'does', 'c++', 'class', 'tried', \"don't\", 'following', 'first', 'same', 'out', '-', 'was', 'two']\n"
          ],
          "name": "stdout"
        }
      ]
    },
    {
      "cell_type": "code",
      "metadata": {
        "id": "aZRnGX6nlGAD"
      },
      "source": [
        "#this demonstrates the importance of the tfidf vectorizer\n",
        "#we are going to try both the count vectorizer and the tfidf vectorizer anyway for logistic regression and naive bayes\n",
        "#tfidf vectorizer is a combination of the count vectorizer and tfidf term weighting"
      ],
      "execution_count": null,
      "outputs": []
    },
    {
      "cell_type": "code",
      "metadata": {
        "id": "_mGI8_bDoMdd"
      },
      "source": [
        "#seperating the posts and labels of the train data\n",
        "train_posts = df_train['Post']\n",
        "train_labels = df_train['Label']\n",
        "\n",
        "#seperating the posts and labels of the validation data\n",
        "valid_posts = df_valid['Post']\n",
        "valid_labels = df_valid['Label']"
      ],
      "execution_count": null,
      "outputs": []
    },
    {
      "cell_type": "code",
      "metadata": {
        "id": "darrlkPg-N-j"
      },
      "source": [
        "vectorizor = TfidfVectorizer()\n",
        "train_posts_tfidf = vectorizor.fit_transform(train_posts)\n",
        "valid_posts_tfidf = vectorizor.transform(valid_posts)"
      ],
      "execution_count": null,
      "outputs": []
    },
    {
      "cell_type": "code",
      "metadata": {
        "id": "iCT0jveb-TH0"
      },
      "source": [
        "vectorizor = CountVectorizer()\n",
        "train_posts_count = vectorizor.fit_transform(train_posts)\n",
        "valid_posts_count = vectorizor.transform(valid_posts)"
      ],
      "execution_count": null,
      "outputs": []
    },
    {
      "cell_type": "code",
      "metadata": {
        "colab": {
          "base_uri": "https://localhost:8080/"
        },
        "id": "IPEbrvgrjf0M",
        "outputId": "3c472815-d4f8-49da-c6a6-ed4f4568e3b3"
      },
      "source": [
        "lr_result = LogisticRegression(max_iter=4000).fit(train_posts_count, train_labels)\n",
        "lr_classification_accuracy_count = lr_result.score(valid_posts_count, valid_labels) * 100\n",
        "print('logistic regression classification accuracy: ' + str(lr_classification_accuracy_count) + '%')"
      ],
      "execution_count": null,
      "outputs": [
        {
          "output_type": "stream",
          "text": [
            "logistic regression classification accuracy: 77.0%\n"
          ],
          "name": "stdout"
        }
      ]
    },
    {
      "cell_type": "code",
      "metadata": {
        "id": "qS-5KFWLWUiO",
        "colab": {
          "base_uri": "https://localhost:8080/"
        },
        "outputId": "fc4f46c0-2fe4-4054-a60a-d25ab1c8ff25"
      },
      "source": [
        "lr_result = LogisticRegression(max_iter=200).fit(train_posts_tfidf, train_labels)\n",
        "lr_classification_accuracy_tfidf = lr_result.score(valid_posts_tfidf, valid_labels) * 100\n",
        "print('logistic regression classification accuracy using tf-idf vectors: ' + str(lr_classification_accuracy_tfidf) + '%')"
      ],
      "execution_count": null,
      "outputs": [
        {
          "output_type": "stream",
          "text": [
            "logistic regression classification accuracy using tf-idf vectors: 79.24%\n"
          ],
          "name": "stdout"
        }
      ]
    },
    {
      "cell_type": "code",
      "metadata": {
        "id": "6eJ6EQTc_NJ_",
        "colab": {
          "base_uri": "https://localhost:8080/"
        },
        "outputId": "e7569654-218c-4efb-e43f-39538a585bc1"
      },
      "source": [
        "nb_result = MultinomialNB().fit(train_posts_count, train_labels)\n",
        "nb_classification_accuracy_count = nb_result.score(valid_posts_count, valid_labels) * 100\n",
        "print('naive bayes classification accuracy: ' + str(nb_classification_accuracy_count) + '%')"
      ],
      "execution_count": null,
      "outputs": [
        {
          "output_type": "stream",
          "text": [
            "naive bayes classification accuracy: 73.7%\n"
          ],
          "name": "stdout"
        }
      ]
    },
    {
      "cell_type": "code",
      "metadata": {
        "id": "S-eWsLUGWUqe",
        "colab": {
          "base_uri": "https://localhost:8080/"
        },
        "outputId": "464059eb-44b8-4e22-c2bc-26ba4c55bebb"
      },
      "source": [
        "nb_result_tfidf = MultinomialNB().fit(train_posts_tfidf, train_labels)\n",
        "nb_classification_accuracy_tfidf = nb_result_tfidf.score(valid_posts_tfidf, valid_labels) * 100\n",
        "print('naive bayes classification accuracy using tf-idf vectors: ' + str(nb_classification_accuracy_tfidf) + '%')"
      ],
      "execution_count": null,
      "outputs": [
        {
          "output_type": "stream",
          "text": [
            "naive bayes classification accuracy using tf-idf vectors: 73.33333333333333%\n"
          ],
          "name": "stdout"
        }
      ]
    },
    {
      "cell_type": "code",
      "metadata": {
        "id": "9JniQNhvWUuG",
        "colab": {
          "base_uri": "https://localhost:8080/"
        },
        "outputId": "359ba691-b0fb-4cd5-9760-ffd88dc8a5d5"
      },
      "source": [
        "neural_net = MLPClassifier().fit(train_posts_tfidf, train_labels)\n",
        "neural_net_accuracy = neural_net.score(valid_posts_tfidf, valid_labels) * 100\n",
        "print('neural net classification accuracy: ' + str(neural_net_accuracy) + '%')"
      ],
      "execution_count": null,
      "outputs": [
        {
          "output_type": "stream",
          "text": [
            "neural net classification accuracy: 73.03333333333333%\n"
          ],
          "name": "stdout"
        }
      ]
    }
  ]
}